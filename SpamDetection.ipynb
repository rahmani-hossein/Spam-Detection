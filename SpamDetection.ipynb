{
  "nbformat": 4,
  "nbformat_minor": 0,
  "metadata": {
    "colab": {
      "name": "SpamDetection.ipynb",
      "provenance": [],
      "toc_visible": true,
      "authorship_tag": "ABX9TyPHCkOpEWo9FGGPvfYrZLNE",
      "include_colab_link": true
    },
    "kernelspec": {
      "name": "python3",
      "display_name": "Python 3"
    },
    "language_info": {
      "name": "python"
    }
  },
  "cells": [
    {
      "cell_type": "markdown",
      "metadata": {
        "id": "view-in-github",
        "colab_type": "text"
      },
      "source": [
        "<a href=\"https://colab.research.google.com/github/rahmani-hossein/Spam-Detection/blob/main/SpamDetection.ipynb\" target=\"_parent\"><img src=\"https://colab.research.google.com/assets/colab-badge.svg\" alt=\"Open In Colab\"/></a>"
      ]
    },
    {
      "cell_type": "markdown",
      "source": [
        "This is notebook version of the **Spam Detection** project for Statistical Learning course of **SUT**(Sharif University of Technology).\n",
        "\n",
        "This work is done by : Hossein Rahmani"
      ],
      "metadata": {
        "id": "zepRYsL1w9ow"
      }
    },
    {
      "cell_type": "markdown",
      "source": [
        "# How to Run?\n",
        "please check [github repository](https://github.com/rahmani-hossein/Spam-Detection)\n",
        "to get data and copy data file to data section of your nootbook.You can run it without problem."
      ],
      "metadata": {
        "id": "gXD9Ut8mfJDF"
      }
    },
    {
      "cell_type": "markdown",
      "source": [
        "# Part one: EDA"
      ],
      "metadata": {
        "id": "HIfnIyjmTJrF"
      }
    },
    {
      "cell_type": "markdown",
      "source": [
        "## Documentation about data Source.\n",
        "\n",
        "\n",
        "\n"
      ],
      "metadata": {
        "id": "KFIOjytIw-PX"
      }
    },
    {
      "cell_type": "markdown",
      "source": [
        "1. Title:  SPAM E-mail Database\n",
        "\n",
        "2. Sources:\n",
        "   (a) Creators: Mark Hopkins, Erik Reeber, George Forman, Jaap Suermondt\n",
        "        Hewlett-Packard Labs, 1501 Page Mill Rd., Palo Alto, CA 94304\n",
        "   (b) Donor: George Forman (gforman at nospam hpl.hp.com)  650-857-7835\n",
        "   (c) Generated: June-July 1999\n",
        "\n",
        "3. Past Usage:\n",
        "   (a) Hewlett-Packard Internal-only Technical Report. External forthcoming.\n",
        "   (b) Determine whether a given email is spam or not.\n",
        "   (c) ~7% misclassification error.\n",
        "       False positives (marking good mail as spam) are very undesirable.\n",
        "       If we insist on zero false positives in the training/testing set,\n",
        "       20-25% of the spam passed through the filter.\n",
        "\n",
        "4. Relevant Information:\n",
        "        The \"spam\" concept is diverse: advertisements for products/web\n",
        "        sites, make money fast schemes, chain letters, pornography...\n",
        "\tOur collection of spam e-mails came from our postmaster and \n",
        "\tindividuals who had filed spam.  Our collection of non-spam \n",
        "\te-mails came from filed work and personal e-mails, and hence\n",
        "\tthe word 'george' and the area code '650' are indicators of \n",
        "\tnon-spam.  These are useful when constructing a personalized \n",
        "\tspam filter.  One would either have to blind such non-spam \n",
        "\tindicators or get a very wide collection of non-spam to \n",
        "\tgenerate a general purpose spam filter.\n",
        "\n",
        "        For background on spam:\n",
        "        Cranor, Lorrie F., LaMacchia, Brian A.  Spam! \n",
        "        Communications of the ACM, 41(8):74-83, 1998.\n",
        "\n",
        "5. Number of Instances: 4601 (1813 Spam = 39.4%)\n",
        "\n",
        "6. Number of Attributes: 58 (57 continuous, 1 nominal class label)\n",
        "\n",
        "7. Attribute Information:\n",
        "The last column of 'spambase.data' denotes whether the e-mail was \n",
        "considered spam (1) or not (0), i.e. unsolicited commercial e-mail.  \n",
        "Most of the attributes indicate whether a particular word or\n",
        "character was frequently occuring in the e-mail.  The run-length\n",
        "attributes (55-57) measure the length of sequences of consecutive \n",
        "capital letters.  For the statistical measures of each attribute, \n",
        "see the end of this file.  Here are the definitions of the attributes:\n",
        "\n",
        "48 continuous real [0,100] attributes of type word_freq_WORD \n",
        "= percentage of words in the e-mail that match WORD,\n",
        "i.e. 100 * (number of times the WORD appears in the e-mail) / \n",
        "total number of words in e-mail.  A \"word\" in this case is any \n",
        "string of alphanumeric characters bounded by non-alphanumeric \n",
        "characters or end-of-string.\n",
        "\n",
        "6 continuous real [0,100] attributes of type char_freq_CHAR\n",
        "= percentage of characters in the e-mail that match CHAR,\n",
        "i.e. 100 * (number of CHAR occurences) / total characters in e-mail\n",
        "\n",
        "1 continuous real [1,...] attribute of type capital_run_length_average\n",
        "= average length of uninterrupted sequences of capital letters\n",
        "\n",
        "1 continuous integer [1,...] attribute of type capital_run_length_longest\n",
        "= length of longest uninterrupted sequence of capital letters\n",
        "\n",
        "1 continuous integer [1,...] attribute of type capital_run_length_total\n",
        "= sum of length of uninterrupted sequences of capital letters\n",
        "= total number of capital letters in the e-mail\n",
        "\n",
        "1 nominal {0,1} class attribute of type spam\n",
        "= denotes whether the e-mail was considered spam (1) or not (0), \n",
        "i.e. unsolicited commercial e-mail.  \n",
        "\n",
        "\n",
        "8. Missing Attribute Values: None\n",
        "\n",
        "9. Class Distribution:\n",
        "\tSpam\t  1813  (39.4%)\n",
        "\tNon-Spam  2788  (60.6%)\n",
        "\n",
        "\n",
        "Attribute Statistics:\n",
        "   Min: Max:   Average:  Std.Dev: Coeff.Var_%: \n",
        "1  0    4.54   0.10455   0.30536  292          \n",
        "2  0    14.28  0.21301   1.2906   606          \n",
        "3  0    5.1    0.28066   0.50414  180          \n",
        "4  0    42.81  0.065425  1.3952   2130         \n",
        "5  0    10     0.31222   0.67251  215          \n",
        "6  0    5.88   0.095901  0.27382  286          \n",
        "7  0    7.27   0.11421   0.39144  343          \n",
        "8  0    11.11  0.10529   0.40107  381          \n",
        "9  0    5.26   0.090067  0.27862  309          \n",
        "10 0    18.18  0.23941   0.64476  269          \n",
        "11 0    2.61   0.059824  0.20154  337          \n",
        "12 0    9.67   0.5417    0.8617   159          \n",
        "13 0    5.55   0.09393   0.30104  320          \n",
        "14 0    10     0.058626  0.33518  572          \n",
        "15 0    4.41   0.049205  0.25884  526          \n",
        "16 0    20     0.24885   0.82579  332          \n",
        "17 0    7.14   0.14259   0.44406  311          \n",
        "18 0    9.09   0.18474   0.53112  287          \n",
        "19 0    18.75  1.6621    1.7755   107          \n",
        "20 0    18.18  0.085577  0.50977  596          \n",
        "21 0    11.11  0.80976   1.2008   148          \n",
        "22 0    17.1   0.1212    1.0258   846          \n",
        "23 0    5.45   0.10165   0.35029  345          \n",
        "24 0    12.5   0.094269  0.44264  470          \n",
        "25 0    20.83  0.5495    1.6713   304          \n",
        "26 0    16.66  0.26538   0.88696  334          \n",
        "27 0    33.33  0.7673    3.3673   439          \n",
        "28 0    9.09   0.12484   0.53858  431          \n",
        "29 0    14.28  0.098915  0.59333  600          \n",
        "30 0    5.88   0.10285   0.45668  444          \n",
        "31 0    12.5   0.064753  0.40339  623          \n",
        "32 0    4.76   0.047048  0.32856  698          \n",
        "33 0    18.18  0.097229  0.55591  572          \n",
        "34 0    4.76   0.047835  0.32945  689          \n",
        "35 0    20     0.10541   0.53226  505          \n",
        "36 0    7.69   0.097477  0.40262  413          \n",
        "37 0    6.89   0.13695   0.42345  309          \n",
        "38 0    8.33   0.013201  0.22065  1670         \n",
        "39 0    11.11  0.078629  0.43467  553          \n",
        "40 0    4.76   0.064834  0.34992  540          \n",
        "41 0    7.14   0.043667  0.3612   827          \n",
        "42 0    14.28  0.13234   0.76682  579          \n",
        "43 0    3.57   0.046099  0.22381  486          \n",
        "44 0    20     0.079196  0.62198  785          \n",
        "45 0    21.42  0.30122   1.0117   336          \n",
        "46 0    22.05  0.17982   0.91112  507          \n",
        "47 0    2.17   0.0054445 0.076274 1400         \n",
        "48 0    10     0.031869  0.28573  897          \n",
        "49 0    4.385  0.038575  0.24347  631          \n",
        "50 0    9.752  0.13903   0.27036  194          \n",
        "51 0    4.081  0.016976  0.10939  644          \n",
        "52 0    32.478 0.26907   0.81567  303          \n",
        "53 0    6.003  0.075811  0.24588  324          \n",
        "54 0    19.829 0.044238  0.42934  971          \n",
        "55 1    1102.5 5.1915    31.729   611          \n",
        "56 1    9989   52.173    194.89   374          \n",
        "57 1    15841  283.29    606.35   214          \n",
        "58 0    1      0.39404   0.4887   124          \n",
        "\n",
        "\n",
        "This file: 'spambase.DOCUMENTATION' at the UCI Machine Learning Repository\n",
        "http://www.ics.uci.edu/~mlearn/MLRepository.html\n"
      ],
      "metadata": {
        "id": "tbPApj0byylV"
      }
    },
    {
      "cell_type": "code",
      "source": [
        "# imports\n",
        "import numpy as np\n",
        "import pandas as pd\n",
        "import matplotlib\n",
        "import matplotlib.pyplot as plt\n",
        "import seaborn as sns\n",
        "import sklearn.metrics as metrics\n",
        "from sklearn.model_selection import cross_val_score\n",
        "from sklearn.metrics import accuracy_score\n",
        "from sklearn import tree\n",
        "from sklearn.tree import DecisionTreeClassifier\n",
        "from sklearn.ensemble import RandomForestClassifier\n",
        "from sklearn.ensemble import AdaBoostClassifier\n",
        "from sklearn.linear_model import LogisticRegressionCV\n",
        "from sklearn.model_selection import KFold\n",
        "from sklearn.model_selection import learning_curve\n",
        "from sklearn.metrics import confusion_matrix\n",
        "%matplotlib inline\n",
        "\n",
        "pd.set_option('display.width', 1500)\n",
        "pd.set_option('display.max_columns', 100)\n",
        "\n"
      ],
      "metadata": {
        "id": "pafMsaaxMf9T"
      },
      "execution_count": 1,
      "outputs": []
    },
    {
      "cell_type": "code",
      "source": [
        "# be sure file is in your directory.\n",
        "spam_df = pd.read_csv('spambasedata.txt', header=None)\n",
        "columns = [\"Column_\"+str(i+1) for i in range(spam_df.shape[1]-1)] + ['Spam']\n",
        "spam_df.columns = columns\n",
        "spam_df.tail()"
      ],
      "metadata": {
        "colab": {
          "base_uri": "https://localhost:8080/",
          "height": 270
        },
        "id": "o9Kd3cJhMh0M",
        "outputId": "7f160cd8-110e-45d2-dbc1-e86cb9b0dc7d"
      },
      "execution_count": 6,
      "outputs": [
        {
          "output_type": "execute_result",
          "data": {
            "text/plain": [
              "      Column_1  Column_2  Column_3  Column_4  Column_5  Column_6  Column_7  Column_8  Column_9  Column_10  Column_11  Column_12  Column_13  Column_14  Column_15  Column_16  Column_17  Column_18  Column_19  Column_20  Column_21  Column_22  Column_23  Column_24  Column_25  Column_26  Column_27  Column_28  Column_29  Column_30  Column_31  Column_32  Column_33  Column_34  Column_35  Column_36  Column_37  Column_38  Column_39  Column_40  Column_41  Column_42  Column_43  Column_44  Column_45  Column_46  Column_47  Column_48  Column_49  Column_50  Column_51  Column_52  Column_53  Column_54  Column_55  Column_56  Column_57  Spam\n",
              "4596      0.31       0.0      0.62       0.0      0.00      0.31       0.0       0.0       0.0        0.0        0.0       1.88       0.00        0.0        0.0        0.0        0.0        0.0       0.62        0.0       0.00        0.0        0.0        0.0        0.0        0.0        0.0        0.0        0.0        0.0        0.0        0.0        0.0        0.0        0.0        0.0        0.0        0.0        0.0        0.0        0.0        0.0        0.0       0.31       0.31       0.31        0.0        0.0      0.000      0.232        0.0      0.000        0.0        0.0      1.142          3         88     0\n",
              "4597      0.00       0.0      0.00       0.0      0.00      0.00       0.0       0.0       0.0        0.0        0.0       0.00       0.00        0.0        0.0        0.0        0.0        0.0       6.00        0.0       2.00        0.0        0.0        0.0        0.0        0.0        0.0        0.0        0.0        0.0        0.0        0.0        0.0        0.0        0.0        0.0        0.0        0.0        0.0        0.0        0.0        0.0        0.0       0.00       0.00       2.00        0.0        0.0      0.000      0.000        0.0      0.353        0.0        0.0      1.555          4         14     0\n",
              "4598      0.30       0.0      0.30       0.0      0.00      0.00       0.0       0.0       0.0        0.0        0.0       1.80       0.30        0.0        0.0        0.0        0.0        0.9       1.50        0.0       0.30        0.0        0.0        0.0        0.0        0.0        0.0        0.0        0.0        0.0        0.0        0.0        0.0        0.0        0.0        0.0        0.0        0.0        0.0        0.0        0.0        0.0        0.0       0.00       0.00       1.20        0.0        0.0      0.102      0.718        0.0      0.000        0.0        0.0      1.404          6        118     0\n",
              "4599      0.96       0.0      0.00       0.0      0.32      0.00       0.0       0.0       0.0        0.0        0.0       0.32       0.00        0.0        0.0        0.0        0.0        0.0       1.93        0.0       0.32        0.0        0.0        0.0        0.0        0.0        0.0        0.0        0.0        0.0        0.0        0.0        0.0        0.0        0.0        0.0        0.0        0.0        0.0        0.0        0.0        0.0        0.0       0.32       0.00       0.32        0.0        0.0      0.000      0.057        0.0      0.000        0.0        0.0      1.147          5         78     0\n",
              "4600      0.00       0.0      0.65       0.0      0.00      0.00       0.0       0.0       0.0        0.0        0.0       0.00       0.65        0.0        0.0        0.0        0.0        0.0       4.60        0.0       0.65        0.0        0.0        0.0        0.0        0.0        0.0        0.0        0.0        0.0        0.0        0.0        0.0        0.0        0.0        0.0        0.0        0.0        0.0        0.0        0.0        0.0        0.0       0.00       1.97       0.65        0.0        0.0      0.000      0.000        0.0      0.125        0.0        0.0      1.250          5         40     0"
            ],
            "text/html": [
              "\n",
              "  <div id=\"df-bff70990-4216-4104-b93d-0a5c5d5908e2\">\n",
              "    <div class=\"colab-df-container\">\n",
              "      <div>\n",
              "<style scoped>\n",
              "    .dataframe tbody tr th:only-of-type {\n",
              "        vertical-align: middle;\n",
              "    }\n",
              "\n",
              "    .dataframe tbody tr th {\n",
              "        vertical-align: top;\n",
              "    }\n",
              "\n",
              "    .dataframe thead th {\n",
              "        text-align: right;\n",
              "    }\n",
              "</style>\n",
              "<table border=\"1\" class=\"dataframe\">\n",
              "  <thead>\n",
              "    <tr style=\"text-align: right;\">\n",
              "      <th></th>\n",
              "      <th>Column_1</th>\n",
              "      <th>Column_2</th>\n",
              "      <th>Column_3</th>\n",
              "      <th>Column_4</th>\n",
              "      <th>Column_5</th>\n",
              "      <th>Column_6</th>\n",
              "      <th>Column_7</th>\n",
              "      <th>Column_8</th>\n",
              "      <th>Column_9</th>\n",
              "      <th>Column_10</th>\n",
              "      <th>Column_11</th>\n",
              "      <th>Column_12</th>\n",
              "      <th>Column_13</th>\n",
              "      <th>Column_14</th>\n",
              "      <th>Column_15</th>\n",
              "      <th>Column_16</th>\n",
              "      <th>Column_17</th>\n",
              "      <th>Column_18</th>\n",
              "      <th>Column_19</th>\n",
              "      <th>Column_20</th>\n",
              "      <th>Column_21</th>\n",
              "      <th>Column_22</th>\n",
              "      <th>Column_23</th>\n",
              "      <th>Column_24</th>\n",
              "      <th>Column_25</th>\n",
              "      <th>Column_26</th>\n",
              "      <th>Column_27</th>\n",
              "      <th>Column_28</th>\n",
              "      <th>Column_29</th>\n",
              "      <th>Column_30</th>\n",
              "      <th>Column_31</th>\n",
              "      <th>Column_32</th>\n",
              "      <th>Column_33</th>\n",
              "      <th>Column_34</th>\n",
              "      <th>Column_35</th>\n",
              "      <th>Column_36</th>\n",
              "      <th>Column_37</th>\n",
              "      <th>Column_38</th>\n",
              "      <th>Column_39</th>\n",
              "      <th>Column_40</th>\n",
              "      <th>Column_41</th>\n",
              "      <th>Column_42</th>\n",
              "      <th>Column_43</th>\n",
              "      <th>Column_44</th>\n",
              "      <th>Column_45</th>\n",
              "      <th>Column_46</th>\n",
              "      <th>Column_47</th>\n",
              "      <th>Column_48</th>\n",
              "      <th>Column_49</th>\n",
              "      <th>Column_50</th>\n",
              "      <th>Column_51</th>\n",
              "      <th>Column_52</th>\n",
              "      <th>Column_53</th>\n",
              "      <th>Column_54</th>\n",
              "      <th>Column_55</th>\n",
              "      <th>Column_56</th>\n",
              "      <th>Column_57</th>\n",
              "      <th>Spam</th>\n",
              "    </tr>\n",
              "  </thead>\n",
              "  <tbody>\n",
              "    <tr>\n",
              "      <th>4596</th>\n",
              "      <td>0.31</td>\n",
              "      <td>0.0</td>\n",
              "      <td>0.62</td>\n",
              "      <td>0.0</td>\n",
              "      <td>0.00</td>\n",
              "      <td>0.31</td>\n",
              "      <td>0.0</td>\n",
              "      <td>0.0</td>\n",
              "      <td>0.0</td>\n",
              "      <td>0.0</td>\n",
              "      <td>0.0</td>\n",
              "      <td>1.88</td>\n",
              "      <td>0.00</td>\n",
              "      <td>0.0</td>\n",
              "      <td>0.0</td>\n",
              "      <td>0.0</td>\n",
              "      <td>0.0</td>\n",
              "      <td>0.0</td>\n",
              "      <td>0.62</td>\n",
              "      <td>0.0</td>\n",
              "      <td>0.00</td>\n",
              "      <td>0.0</td>\n",
              "      <td>0.0</td>\n",
              "      <td>0.0</td>\n",
              "      <td>0.0</td>\n",
              "      <td>0.0</td>\n",
              "      <td>0.0</td>\n",
              "      <td>0.0</td>\n",
              "      <td>0.0</td>\n",
              "      <td>0.0</td>\n",
              "      <td>0.0</td>\n",
              "      <td>0.0</td>\n",
              "      <td>0.0</td>\n",
              "      <td>0.0</td>\n",
              "      <td>0.0</td>\n",
              "      <td>0.0</td>\n",
              "      <td>0.0</td>\n",
              "      <td>0.0</td>\n",
              "      <td>0.0</td>\n",
              "      <td>0.0</td>\n",
              "      <td>0.0</td>\n",
              "      <td>0.0</td>\n",
              "      <td>0.0</td>\n",
              "      <td>0.31</td>\n",
              "      <td>0.31</td>\n",
              "      <td>0.31</td>\n",
              "      <td>0.0</td>\n",
              "      <td>0.0</td>\n",
              "      <td>0.000</td>\n",
              "      <td>0.232</td>\n",
              "      <td>0.0</td>\n",
              "      <td>0.000</td>\n",
              "      <td>0.0</td>\n",
              "      <td>0.0</td>\n",
              "      <td>1.142</td>\n",
              "      <td>3</td>\n",
              "      <td>88</td>\n",
              "      <td>0</td>\n",
              "    </tr>\n",
              "    <tr>\n",
              "      <th>4597</th>\n",
              "      <td>0.00</td>\n",
              "      <td>0.0</td>\n",
              "      <td>0.00</td>\n",
              "      <td>0.0</td>\n",
              "      <td>0.00</td>\n",
              "      <td>0.00</td>\n",
              "      <td>0.0</td>\n",
              "      <td>0.0</td>\n",
              "      <td>0.0</td>\n",
              "      <td>0.0</td>\n",
              "      <td>0.0</td>\n",
              "      <td>0.00</td>\n",
              "      <td>0.00</td>\n",
              "      <td>0.0</td>\n",
              "      <td>0.0</td>\n",
              "      <td>0.0</td>\n",
              "      <td>0.0</td>\n",
              "      <td>0.0</td>\n",
              "      <td>6.00</td>\n",
              "      <td>0.0</td>\n",
              "      <td>2.00</td>\n",
              "      <td>0.0</td>\n",
              "      <td>0.0</td>\n",
              "      <td>0.0</td>\n",
              "      <td>0.0</td>\n",
              "      <td>0.0</td>\n",
              "      <td>0.0</td>\n",
              "      <td>0.0</td>\n",
              "      <td>0.0</td>\n",
              "      <td>0.0</td>\n",
              "      <td>0.0</td>\n",
              "      <td>0.0</td>\n",
              "      <td>0.0</td>\n",
              "      <td>0.0</td>\n",
              "      <td>0.0</td>\n",
              "      <td>0.0</td>\n",
              "      <td>0.0</td>\n",
              "      <td>0.0</td>\n",
              "      <td>0.0</td>\n",
              "      <td>0.0</td>\n",
              "      <td>0.0</td>\n",
              "      <td>0.0</td>\n",
              "      <td>0.0</td>\n",
              "      <td>0.00</td>\n",
              "      <td>0.00</td>\n",
              "      <td>2.00</td>\n",
              "      <td>0.0</td>\n",
              "      <td>0.0</td>\n",
              "      <td>0.000</td>\n",
              "      <td>0.000</td>\n",
              "      <td>0.0</td>\n",
              "      <td>0.353</td>\n",
              "      <td>0.0</td>\n",
              "      <td>0.0</td>\n",
              "      <td>1.555</td>\n",
              "      <td>4</td>\n",
              "      <td>14</td>\n",
              "      <td>0</td>\n",
              "    </tr>\n",
              "    <tr>\n",
              "      <th>4598</th>\n",
              "      <td>0.30</td>\n",
              "      <td>0.0</td>\n",
              "      <td>0.30</td>\n",
              "      <td>0.0</td>\n",
              "      <td>0.00</td>\n",
              "      <td>0.00</td>\n",
              "      <td>0.0</td>\n",
              "      <td>0.0</td>\n",
              "      <td>0.0</td>\n",
              "      <td>0.0</td>\n",
              "      <td>0.0</td>\n",
              "      <td>1.80</td>\n",
              "      <td>0.30</td>\n",
              "      <td>0.0</td>\n",
              "      <td>0.0</td>\n",
              "      <td>0.0</td>\n",
              "      <td>0.0</td>\n",
              "      <td>0.9</td>\n",
              "      <td>1.50</td>\n",
              "      <td>0.0</td>\n",
              "      <td>0.30</td>\n",
              "      <td>0.0</td>\n",
              "      <td>0.0</td>\n",
              "      <td>0.0</td>\n",
              "      <td>0.0</td>\n",
              "      <td>0.0</td>\n",
              "      <td>0.0</td>\n",
              "      <td>0.0</td>\n",
              "      <td>0.0</td>\n",
              "      <td>0.0</td>\n",
              "      <td>0.0</td>\n",
              "      <td>0.0</td>\n",
              "      <td>0.0</td>\n",
              "      <td>0.0</td>\n",
              "      <td>0.0</td>\n",
              "      <td>0.0</td>\n",
              "      <td>0.0</td>\n",
              "      <td>0.0</td>\n",
              "      <td>0.0</td>\n",
              "      <td>0.0</td>\n",
              "      <td>0.0</td>\n",
              "      <td>0.0</td>\n",
              "      <td>0.0</td>\n",
              "      <td>0.00</td>\n",
              "      <td>0.00</td>\n",
              "      <td>1.20</td>\n",
              "      <td>0.0</td>\n",
              "      <td>0.0</td>\n",
              "      <td>0.102</td>\n",
              "      <td>0.718</td>\n",
              "      <td>0.0</td>\n",
              "      <td>0.000</td>\n",
              "      <td>0.0</td>\n",
              "      <td>0.0</td>\n",
              "      <td>1.404</td>\n",
              "      <td>6</td>\n",
              "      <td>118</td>\n",
              "      <td>0</td>\n",
              "    </tr>\n",
              "    <tr>\n",
              "      <th>4599</th>\n",
              "      <td>0.96</td>\n",
              "      <td>0.0</td>\n",
              "      <td>0.00</td>\n",
              "      <td>0.0</td>\n",
              "      <td>0.32</td>\n",
              "      <td>0.00</td>\n",
              "      <td>0.0</td>\n",
              "      <td>0.0</td>\n",
              "      <td>0.0</td>\n",
              "      <td>0.0</td>\n",
              "      <td>0.0</td>\n",
              "      <td>0.32</td>\n",
              "      <td>0.00</td>\n",
              "      <td>0.0</td>\n",
              "      <td>0.0</td>\n",
              "      <td>0.0</td>\n",
              "      <td>0.0</td>\n",
              "      <td>0.0</td>\n",
              "      <td>1.93</td>\n",
              "      <td>0.0</td>\n",
              "      <td>0.32</td>\n",
              "      <td>0.0</td>\n",
              "      <td>0.0</td>\n",
              "      <td>0.0</td>\n",
              "      <td>0.0</td>\n",
              "      <td>0.0</td>\n",
              "      <td>0.0</td>\n",
              "      <td>0.0</td>\n",
              "      <td>0.0</td>\n",
              "      <td>0.0</td>\n",
              "      <td>0.0</td>\n",
              "      <td>0.0</td>\n",
              "      <td>0.0</td>\n",
              "      <td>0.0</td>\n",
              "      <td>0.0</td>\n",
              "      <td>0.0</td>\n",
              "      <td>0.0</td>\n",
              "      <td>0.0</td>\n",
              "      <td>0.0</td>\n",
              "      <td>0.0</td>\n",
              "      <td>0.0</td>\n",
              "      <td>0.0</td>\n",
              "      <td>0.0</td>\n",
              "      <td>0.32</td>\n",
              "      <td>0.00</td>\n",
              "      <td>0.32</td>\n",
              "      <td>0.0</td>\n",
              "      <td>0.0</td>\n",
              "      <td>0.000</td>\n",
              "      <td>0.057</td>\n",
              "      <td>0.0</td>\n",
              "      <td>0.000</td>\n",
              "      <td>0.0</td>\n",
              "      <td>0.0</td>\n",
              "      <td>1.147</td>\n",
              "      <td>5</td>\n",
              "      <td>78</td>\n",
              "      <td>0</td>\n",
              "    </tr>\n",
              "    <tr>\n",
              "      <th>4600</th>\n",
              "      <td>0.00</td>\n",
              "      <td>0.0</td>\n",
              "      <td>0.65</td>\n",
              "      <td>0.0</td>\n",
              "      <td>0.00</td>\n",
              "      <td>0.00</td>\n",
              "      <td>0.0</td>\n",
              "      <td>0.0</td>\n",
              "      <td>0.0</td>\n",
              "      <td>0.0</td>\n",
              "      <td>0.0</td>\n",
              "      <td>0.00</td>\n",
              "      <td>0.65</td>\n",
              "      <td>0.0</td>\n",
              "      <td>0.0</td>\n",
              "      <td>0.0</td>\n",
              "      <td>0.0</td>\n",
              "      <td>0.0</td>\n",
              "      <td>4.60</td>\n",
              "      <td>0.0</td>\n",
              "      <td>0.65</td>\n",
              "      <td>0.0</td>\n",
              "      <td>0.0</td>\n",
              "      <td>0.0</td>\n",
              "      <td>0.0</td>\n",
              "      <td>0.0</td>\n",
              "      <td>0.0</td>\n",
              "      <td>0.0</td>\n",
              "      <td>0.0</td>\n",
              "      <td>0.0</td>\n",
              "      <td>0.0</td>\n",
              "      <td>0.0</td>\n",
              "      <td>0.0</td>\n",
              "      <td>0.0</td>\n",
              "      <td>0.0</td>\n",
              "      <td>0.0</td>\n",
              "      <td>0.0</td>\n",
              "      <td>0.0</td>\n",
              "      <td>0.0</td>\n",
              "      <td>0.0</td>\n",
              "      <td>0.0</td>\n",
              "      <td>0.0</td>\n",
              "      <td>0.0</td>\n",
              "      <td>0.00</td>\n",
              "      <td>1.97</td>\n",
              "      <td>0.65</td>\n",
              "      <td>0.0</td>\n",
              "      <td>0.0</td>\n",
              "      <td>0.000</td>\n",
              "      <td>0.000</td>\n",
              "      <td>0.0</td>\n",
              "      <td>0.125</td>\n",
              "      <td>0.0</td>\n",
              "      <td>0.0</td>\n",
              "      <td>1.250</td>\n",
              "      <td>5</td>\n",
              "      <td>40</td>\n",
              "      <td>0</td>\n",
              "    </tr>\n",
              "  </tbody>\n",
              "</table>\n",
              "</div>\n",
              "      <button class=\"colab-df-convert\" onclick=\"convertToInteractive('df-bff70990-4216-4104-b93d-0a5c5d5908e2')\"\n",
              "              title=\"Convert this dataframe to an interactive table.\"\n",
              "              style=\"display:none;\">\n",
              "        \n",
              "  <svg xmlns=\"http://www.w3.org/2000/svg\" height=\"24px\"viewBox=\"0 0 24 24\"\n",
              "       width=\"24px\">\n",
              "    <path d=\"M0 0h24v24H0V0z\" fill=\"none\"/>\n",
              "    <path d=\"M18.56 5.44l.94 2.06.94-2.06 2.06-.94-2.06-.94-.94-2.06-.94 2.06-2.06.94zm-11 1L8.5 8.5l.94-2.06 2.06-.94-2.06-.94L8.5 2.5l-.94 2.06-2.06.94zm10 10l.94 2.06.94-2.06 2.06-.94-2.06-.94-.94-2.06-.94 2.06-2.06.94z\"/><path d=\"M17.41 7.96l-1.37-1.37c-.4-.4-.92-.59-1.43-.59-.52 0-1.04.2-1.43.59L10.3 9.45l-7.72 7.72c-.78.78-.78 2.05 0 2.83L4 21.41c.39.39.9.59 1.41.59.51 0 1.02-.2 1.41-.59l7.78-7.78 2.81-2.81c.8-.78.8-2.07 0-2.86zM5.41 20L4 18.59l7.72-7.72 1.47 1.35L5.41 20z\"/>\n",
              "  </svg>\n",
              "      </button>\n",
              "      \n",
              "  <style>\n",
              "    .colab-df-container {\n",
              "      display:flex;\n",
              "      flex-wrap:wrap;\n",
              "      gap: 12px;\n",
              "    }\n",
              "\n",
              "    .colab-df-convert {\n",
              "      background-color: #E8F0FE;\n",
              "      border: none;\n",
              "      border-radius: 50%;\n",
              "      cursor: pointer;\n",
              "      display: none;\n",
              "      fill: #1967D2;\n",
              "      height: 32px;\n",
              "      padding: 0 0 0 0;\n",
              "      width: 32px;\n",
              "    }\n",
              "\n",
              "    .colab-df-convert:hover {\n",
              "      background-color: #E2EBFA;\n",
              "      box-shadow: 0px 1px 2px rgba(60, 64, 67, 0.3), 0px 1px 3px 1px rgba(60, 64, 67, 0.15);\n",
              "      fill: #174EA6;\n",
              "    }\n",
              "\n",
              "    [theme=dark] .colab-df-convert {\n",
              "      background-color: #3B4455;\n",
              "      fill: #D2E3FC;\n",
              "    }\n",
              "\n",
              "    [theme=dark] .colab-df-convert:hover {\n",
              "      background-color: #434B5C;\n",
              "      box-shadow: 0px 1px 3px 1px rgba(0, 0, 0, 0.15);\n",
              "      filter: drop-shadow(0px 1px 2px rgba(0, 0, 0, 0.3));\n",
              "      fill: #FFFFFF;\n",
              "    }\n",
              "  </style>\n",
              "\n",
              "      <script>\n",
              "        const buttonEl =\n",
              "          document.querySelector('#df-bff70990-4216-4104-b93d-0a5c5d5908e2 button.colab-df-convert');\n",
              "        buttonEl.style.display =\n",
              "          google.colab.kernel.accessAllowed ? 'block' : 'none';\n",
              "\n",
              "        async function convertToInteractive(key) {\n",
              "          const element = document.querySelector('#df-bff70990-4216-4104-b93d-0a5c5d5908e2');\n",
              "          const dataTable =\n",
              "            await google.colab.kernel.invokeFunction('convertToInteractive',\n",
              "                                                     [key], {});\n",
              "          if (!dataTable) return;\n",
              "\n",
              "          const docLinkHtml = 'Like what you see? Visit the ' +\n",
              "            '<a target=\"_blank\" href=https://colab.research.google.com/notebooks/data_table.ipynb>data table notebook</a>'\n",
              "            + ' to learn more about interactive tables.';\n",
              "          element.innerHTML = '';\n",
              "          dataTable['output_type'] = 'display_data';\n",
              "          await google.colab.output.renderOutput(dataTable, element);\n",
              "          const docLink = document.createElement('div');\n",
              "          docLink.innerHTML = docLinkHtml;\n",
              "          element.appendChild(docLink);\n",
              "        }\n",
              "      </script>\n",
              "    </div>\n",
              "  </div>\n",
              "  "
            ]
          },
          "metadata": {},
          "execution_count": 6
        }
      ]
    },
    {
      "cell_type": "markdown",
      "source": [
        "Now, we split dataset to 5 fold (K-Fold Cross Validation k=5) for training our classifier on training set and test it on test set."
      ],
      "metadata": {
        "id": "0NhB-sW_P0Wa"
      }
    },
    {
      "cell_type": "code",
      "source": [
        "np.random.seed(5)\n",
        "msk = np.random.rand(len(spam_df)) < 0.8\n",
        "data_train = spam_df[msk]\n",
        "data_test = spam_df[~msk]\n",
        "\n",
        "#Split predictor and response columns\n",
        "x_train, y_train = data_train.drop(['Spam'], axis=1), data_train['Spam']\n",
        "x_test , y_test  = data_test.drop(['Spam'] , axis=1), data_test['Spam']"
      ],
      "metadata": {
        "id": "AA2yH133Mhcu"
      },
      "execution_count": 11,
      "outputs": []
    },
    {
      "cell_type": "markdown",
      "source": [
        "We check the percentage of spam to see wheter our data is imbalanced or not because in case of imbalanced data, we shouldn't use Neural Networks.\n",
        "and also we want to emphesize more in the FP(case that you say an email is spam but in reality it isn't) and because of these two reasons, we choose **Tree-based** methods over **NN**."
      ],
      "metadata": {
        "id": "0jSiw-PIQ2eg"
      }
    },
    {
      "cell_type": "code",
      "source": [
        "#Check Percentage of Spam in Train and Test Set\n",
        "percentage_spam_training = 100*y_train.sum()/len(y_train)\n",
        "percentage_spam_testing  = 100*y_test.sum()/len(y_test)\n",
        "                                                  \n",
        "print(\"Percentage of Spam in Training Set \\t : {:0.2f}%.\".format(percentage_spam_training))\n",
        "print(\"Percentage of Spam in Testing Set \\t : {:0.2f}%.\".format(percentage_spam_testing))"
      ],
      "metadata": {
        "colab": {
          "base_uri": "https://localhost:8080/"
        },
        "id": "PDNcn7uOMhEK",
        "outputId": "2f2b9219-a80c-4523-a173-ef0c1b556712"
      },
      "execution_count": 10,
      "outputs": [
        {
          "output_type": "stream",
          "name": "stdout",
          "text": [
            "Percentage of Spam in Training Set \t : 39.16%.\n",
            "Percentage of Spam in Testing Set \t : 40.40%.\n"
          ]
        }
      ]
    },
    {
      "cell_type": "markdown",
      "source": [
        "# Part two: Fitting models"
      ],
      "metadata": {
        "id": "HKiiLDzUSOUl"
      }
    },
    {
      "cell_type": "markdown",
      "source": [
        "Now we fit some algorithms on our data and compare their outputs.We start with **Trees** and **Bagging** then continue with **Random Forest** and **Gradient Boosting**. at the end we see state-of the art method(**XGBoost**) for our spam-detection task.(basically classification task.)"
      ],
      "metadata": {
        "id": "hUV5bKr-1uYQ"
      }
    },
    {
      "cell_type": "markdown",
      "source": [
        "## Trees"
      ],
      "metadata": {
        "id": "U0bnRSXbxWZ3"
      }
    },
    {
      "cell_type": "markdown",
      "source": [
        "We have a range of values for Tree's depth. and we choose optimal value based on Cross-Validation.\n",
        "\n",
        "\n",
        "*   We get mean over each training fold scores for having a unique metric for comparing different depths of decision tree.\n",
        "\n"
      ],
      "metadata": {
        "id": "lGsi6g_gUSgO"
      }
    },
    {
      "cell_type": "code",
      "source": [
        "#Find optimal depth of trees\n",
        "mean_CV_acc = {}\n",
        "all_CV_acc = {}\n",
        "tree_depth_start, tree_depth_end, steps = 3, 31, 4\n",
        "for i in range(tree_depth_start, tree_depth_end, steps):\n",
        "    model = DecisionTreeClassifier(max_depth=i)\n",
        "    score = cross_val_score(estimator=model, X=x_train, y=y_train, cv=5, n_jobs=-1)\n",
        "    all_CV_acc[i] = score\n",
        "    mean_CV_acc[i] = score.mean()\n",
        "\n",
        "mean_CV_acc"
      ],
      "metadata": {
        "colab": {
          "base_uri": "https://localhost:8080/"
        },
        "id": "F4FU7lViUMCG",
        "outputId": "9da7bcf0-1d04-498c-f65e-aa031500a157"
      },
      "execution_count": 12,
      "outputs": [
        {
          "output_type": "execute_result",
          "data": {
            "text/plain": [
              "{3: 0.8679296346414074,\n",
              " 7: 0.8939106901217861,\n",
              " 11: 0.8947225981055482,\n",
              " 15: 0.8895805142083898,\n",
              " 19: 0.887956698240866,\n",
              " 23: 0.8857916102841678,\n",
              " 27: 0.8836265223274695}"
            ]
          },
          "metadata": {},
          "execution_count": 12
        }
      ]
    },
    {
      "cell_type": "code",
      "source": [
        "#Plotting accuracy \n",
        "lists = sorted(mean_CV_acc.items())\n",
        "x, y = zip(*lists)     \n",
        "plt.ylabel(\"Cross Validation Accuracy\")\n",
        "plt.xlabel(\"Maximum Depth\")\n",
        "plt.title('Variation of Accuracy with Depth - Simple Decision Tree')\n",
        "plt.plot(x, y, 'b-', marker='o')\n",
        "plt.show()"
      ],
      "metadata": {
        "colab": {
          "base_uri": "https://localhost:8080/",
          "height": 295
        },
        "id": "iYB-XP-sVvTW",
        "outputId": "407dcd7e-e0fc-410d-a355-baa24f6cf92d"
      },
      "execution_count": 13,
      "outputs": [
        {
          "output_type": "display_data",
          "data": {
            "text/plain": [
              "<Figure size 432x288 with 1 Axes>"
            ],
            "image/png": "[encoded data removed]"
          },
          "metadata": {
            "needs_background": "light"
          }
        }
      ]
    },
    {
      "cell_type": "markdown",
      "source": [
        "So we choose 11 for maximum depth.(based on Bias/Variance trde-off)\n",
        "\n",
        "we have some other plots to emphesize on this choice.\n"
      ],
      "metadata": {
        "id": "0VVjWs9Bxv0u"
      }
    },
    {
      "cell_type": "code",
      "source": [
        "#Plotting accuracy confidence interval\n",
        "stds = np.array([ np.std(score) for score in all_CV_acc.values() ])\n",
        "stds\n",
        "plt.fill_between(x, y + stds, y - stds, alpha=0.2)\n",
        "plt.ylabel(\"Cross Validation Accuracy\")\n",
        "plt.xlabel(\"Maximum Depth\")\n",
        "plt.title('Variation of Accuracy with Depth - Decision Tree')\n",
        "plt.plot(x, y, 'b-', marker='o')\n",
        "plt.show()"
      ],
      "metadata": {
        "colab": {
          "base_uri": "https://localhost:8080/",
          "height": 295
        },
        "id": "l6q1Ai62WE2B",
        "outputId": "fc3e6b7b-705b-4b99-e64b-7e01211f797f"
      },
      "execution_count": 15,
      "outputs": [
        {
          "output_type": "display_data",
          "data": {
            "text/plain": [
              "<Figure size 432x288 with 1 Axes>"
            ],
            "image/png": "[encoded data removed]"
          },
          "metadata": {
            "needs_background": "light"
          }
        }
      ]
    },
    {
      "cell_type": "code",
      "source": [
        "# Making a numpy array with all the CV acc scores\n",
        "scores_numpy = np.array(list(all_CV_acc.values()))\n",
        "# Making a datafr\n",
        "trees = pd.DataFrame({'Max Depth':x+x+x+x+x, 'CV Accuracy Score':list(scores_numpy[:,0])+\n",
        "                     list(scores_numpy[:,1])+\n",
        "                     list(scores_numpy[:,2])+\n",
        "                     list(scores_numpy[:,3])+\n",
        "                     list(scores_numpy[:,4])})\n",
        "trees.head()\n",
        "# plotting the boxplot \n",
        "plt.title('Variation of Accuracy with Depth - Simple Decision Tree')\n",
        "sns.boxplot(x=\"Max Depth\", y=\"CV Accuracy Score\", data=trees);\n",
        "# plotting the boxplot without outliers (showfliers = False)\n",
        "plt.title('Variation of Accuracy with Depth - Simple Decision Tree')\n",
        "sns.boxplot(x=\"Max Depth\", y=\"CV Accuracy Score\", data=trees, showfliers=False);"
      ],
      "metadata": {
        "colab": {
          "base_uri": "https://localhost:8080/",
          "height": 295
        },
        "id": "4HWaB5yVWFOs",
        "outputId": "b95fbb68-b05b-43b0-9b2d-10be3060b95b"
      },
      "execution_count": 16,
      "outputs": [
        {
          "output_type": "display_data",
          "data": {
            "text/plain": [
              "<Figure size 432x288 with 1 Axes>"
            ],
            "image/png": "[encoded data removed]"
          },
          "metadata": {
            "needs_background": "light"
          }
        }
      ]
    },
    {
      "cell_type": "code",
      "source": [
        "best_depth = sorted(mean_CV_acc, key=mean_CV_acc.get, reverse=True)[0]\n",
        "print(\"The best depth was found to be:\", best_depth)\n",
        "#Evalaute the performance at the best depth\n",
        "model_tree = DecisionTreeClassifier(max_depth=best_depth)\n",
        "model_tree.fit(x_train, y_train)\n",
        "acc_trees_training = accuracy_score(y_train, model_tree.predict(x_train))\n",
        "acc_trees_testing  = accuracy_score(y_test,  model_tree.predict(x_test))\n",
        "print(\"Simple Decision Trees: Accuracy, Training Set \\t : {:.2%}\".format(acc_trees_training))\n",
        "print(\"Simple Decision Trees: Accuracy, Testing Set \\t : {:.2%}\".format(acc_trees_testing))\n",
        "#Get  Confusion Matrix\n",
        "pd.crosstab(y_test, model_tree.predict(x_test), margins=True, rownames=['Actual'], colnames=['Predicted'])"
      ],
      "metadata": {
        "colab": {
          "base_uri": "https://localhost:8080/",
          "height": 227
        },
        "id": "SQvGmmegW90p",
        "outputId": "ad527faa-fb64-47b5-afa5-b5addc36869a"
      },
      "execution_count": 18,
      "outputs": [
        {
          "output_type": "stream",
          "name": "stdout",
          "text": [
            "The best depth was found to be: 11\n",
            "Simple Decision Trees: Accuracy, Training Set \t : 96.75%\n",
            "Simple Decision Trees: Accuracy, Testing Set \t : 92.94%\n"
          ]
        },
        {
          "output_type": "execute_result",
          "data": {
            "text/plain": [
              "Predicted    0    1  All\n",
              "Actual                  \n",
              "0          516   24  540\n",
              "1           40  326  366\n",
              "All        556  350  906"
            ],
            "text/html": [
              "\n",
              "  <div id=\"df-02172c84-d113-47ba-acfc-8787d7ff2b42\">\n",
              "    <div class=\"colab-df-container\">\n",
              "      <div>\n",
              "<style scoped>\n",
              "    .dataframe tbody tr th:only-of-type {\n",
              "        vertical-align: middle;\n",
              "    }\n",
              "\n",
              "    .dataframe tbody tr th {\n",
              "        vertical-align: top;\n",
              "    }\n",
              "\n",
              "    .dataframe thead th {\n",
              "        text-align: right;\n",
              "    }\n",
              "</style>\n",
              "<table border=\"1\" class=\"dataframe\">\n",
              "  <thead>\n",
              "    <tr style=\"text-align: right;\">\n",
              "      <th>Predicted</th>\n",
              "      <th>0</th>\n",
              "      <th>1</th>\n",
              "      <th>All</th>\n",
              "    </tr>\n",
              "    <tr>\n",
              "      <th>Actual</th>\n",
              "      <th></th>\n",
              "      <th></th>\n",
              "      <th></th>\n",
              "    </tr>\n",
              "  </thead>\n",
              "  <tbody>\n",
              "    <tr>\n",
              "      <th>0</th>\n",
              "      <td>516</td>\n",
              "      <td>24</td>\n",
              "      <td>540</td>\n",
              "    </tr>\n",
              "    <tr>\n",
              "      <th>1</th>\n",
              "      <td>40</td>\n",
              "      <td>326</td>\n",
              "      <td>366</td>\n",
              "    </tr>\n",
              "    <tr>\n",
              "      <th>All</th>\n",
              "      <td>556</td>\n",
              "      <td>350</td>\n",
              "      <td>906</td>\n",
              "    </tr>\n",
              "  </tbody>\n",
              "</table>\n",
              "</div>\n",
              "      <button class=\"colab-df-convert\" onclick=\"convertToInteractive('df-02172c84-d113-47ba-acfc-8787d7ff2b42')\"\n",
              "              title=\"Convert this dataframe to an interactive table.\"\n",
              "              style=\"display:none;\">\n",
              "        \n",
              "  <svg xmlns=\"http://www.w3.org/2000/svg\" height=\"24px\"viewBox=\"0 0 24 24\"\n",
              "       width=\"24px\">\n",
              "    <path d=\"M0 0h24v24H0V0z\" fill=\"none\"/>\n",
              "    <path d=\"M18.56 5.44l.94 2.06.94-2.06 2.06-.94-2.06-.94-.94-2.06-.94 2.06-2.06.94zm-11 1L8.5 8.5l.94-2.06 2.06-.94-2.06-.94L8.5 2.5l-.94 2.06-2.06.94zm10 10l.94 2.06.94-2.06 2.06-.94-2.06-.94-.94-2.06-.94 2.06-2.06.94z\"/><path d=\"M17.41 7.96l-1.37-1.37c-.4-.4-.92-.59-1.43-.59-.52 0-1.04.2-1.43.59L10.3 9.45l-7.72 7.72c-.78.78-.78 2.05 0 2.83L4 21.41c.39.39.9.59 1.41.59.51 0 1.02-.2 1.41-.59l7.78-7.78 2.81-2.81c.8-.78.8-2.07 0-2.86zM5.41 20L4 18.59l7.72-7.72 1.47 1.35L5.41 20z\"/>\n",
              "  </svg>\n",
              "      </button>\n",
              "      \n",
              "  <style>\n",
              "    .colab-df-container {\n",
              "      display:flex;\n",
              "      flex-wrap:wrap;\n",
              "      gap: 12px;\n",
              "    }\n",
              "\n",
              "    .colab-df-convert {\n",
              "      background-color: #E8F0FE;\n",
              "      border: none;\n",
              "      border-radius: 50%;\n",
              "      cursor: pointer;\n",
              "      display: none;\n",
              "      fill: #1967D2;\n",
              "      height: 32px;\n",
              "      padding: 0 0 0 0;\n",
              "      width: 32px;\n",
              "    }\n",
              "\n",
              "    .colab-df-convert:hover {\n",
              "      background-color: #E2EBFA;\n",
              "      box-shadow: 0px 1px 2px rgba(60, 64, 67, 0.3), 0px 1px 3px 1px rgba(60, 64, 67, 0.15);\n",
              "      fill: #174EA6;\n",
              "    }\n",
              "\n",
              "    [theme=dark] .colab-df-convert {\n",
              "      background-color: #3B4455;\n",
              "      fill: #D2E3FC;\n",
              "    }\n",
              "\n",
              "    [theme=dark] .colab-df-convert:hover {\n",
              "      background-color: #434B5C;\n",
              "      box-shadow: 0px 1px 3px 1px rgba(0, 0, 0, 0.15);\n",
              "      filter: drop-shadow(0px 1px 2px rgba(0, 0, 0, 0.3));\n",
              "      fill: #FFFFFF;\n",
              "    }\n",
              "  </style>\n",
              "\n",
              "      <script>\n",
              "        const buttonEl =\n",
              "          document.querySelector('#df-02172c84-d113-47ba-acfc-8787d7ff2b42 button.colab-df-convert');\n",
              "        buttonEl.style.display =\n",
              "          google.colab.kernel.accessAllowed ? 'block' : 'none';\n",
              "\n",
              "        async function convertToInteractive(key) {\n",
              "          const element = document.querySelector('#df-02172c84-d113-47ba-acfc-8787d7ff2b42');\n",
              "          const dataTable =\n",
              "            await google.colab.kernel.invokeFunction('convertToInteractive',\n",
              "                                                     [key], {});\n",
              "          if (!dataTable) return;\n",
              "\n",
              "          const docLinkHtml = 'Like what you see? Visit the ' +\n",
              "            '<a target=\"_blank\" href=https://colab.research.google.com/notebooks/data_table.ipynb>data table notebook</a>'\n",
              "            + ' to learn more about interactive tables.';\n",
              "          element.innerHTML = '';\n",
              "          dataTable['output_type'] = 'display_data';\n",
              "          await google.colab.output.renderOutput(dataTable, element);\n",
              "          const docLink = document.createElement('div');\n",
              "          docLink.innerHTML = docLinkHtml;\n",
              "          element.appendChild(docLink);\n",
              "        }\n",
              "      </script>\n",
              "    </div>\n",
              "  </div>\n",
              "  "
            ]
          },
          "metadata": {},
          "execution_count": 18
        }
      ]
    },
    {
      "cell_type": "markdown",
      "source": [
        "### Visualize Tree"
      ],
      "metadata": {
        "id": "omtolDQFaiX9"
      }
    },
    {
      "cell_type": "code",
      "source": [
        "from sklearn import tree\n",
        "\n",
        "file_name = \"results/decision_tree.dot\"\n",
        "tree.export_graphviz(model_tree, out_file = file_name)"
      ],
      "metadata": {
        "id": "R-gDHXwiW9jR"
      },
      "execution_count": 19,
      "outputs": []
    },
    {
      "cell_type": "code",
      "source": [
        "! pip install pydot\n",
        "! conda install graphviz -y"
      ],
      "metadata": {
        "colab": {
          "base_uri": "https://localhost:8080/"
        },
        "id": "6ptwBoIsaWgg",
        "outputId": "5825503d-0530-4755-8d9a-3a7dd529e42e"
      },
      "execution_count": 20,
      "outputs": [
        {
          "output_type": "stream",
          "name": "stdout",
          "text": [
            "Looking in indexes: https://pypi.org/simple, https://us-python.pkg.dev/colab-wheels/public/simple/\n",
            "Requirement already satisfied: pydot in /usr/local/lib/python3.7/dist-packages (1.3.0)\n",
            "Requirement already satisfied: pyparsing>=2.1.4 in /usr/local/lib/python3.7/dist-packages (from pydot) (3.0.9)\n",
            "/bin/bash: conda: command not found\n"
          ]
        }
      ]
    },
    {
      "cell_type": "code",
      "source": [
        "import pydot\n",
        "(graph,) = pydot.graph_from_dot_file(file_name)\n",
        "graph.write_png('results/image_tree.png')"
      ],
      "metadata": {
        "id": "QGiBlsoYW9MV"
      },
      "execution_count": 21,
      "outputs": []
    },
    {
      "cell_type": "markdown",
      "source": [
        "## Bagging"
      ],
      "metadata": {
        "id": "TK8EoozDxv48"
      }
    },
    {
      "cell_type": "markdown",
      "source": [
        "In this part we bootstrap our training data to produce multiple training sets and grow tree on them. At the end, we vote to determine the class(majority vote) or value(for regression)."
      ],
      "metadata": {
        "id": "sp33MxYhb8Ml"
      }
    },
    {
      "cell_type": "code",
      "source": [
        "n_trees = 100\n",
        "choosen_depth = 5 #all trees have this depth.\n",
        "np.random.seed(0)\n",
        "model = DecisionTreeClassifier(max_depth=choosen_depth)\n",
        "predictions_train = np.zeros((data_train.shape[0], n_trees))\n",
        "predictions_test = np.zeros((data_test.shape[0], n_trees))\n",
        "\n",
        "# Bootstraping iterations\n",
        "for i in range(n_trees):\n",
        "    temp = data_train.sample(frac=1, replace=True)\n",
        "    response_variable = temp['Spam']\n",
        "    temp = temp.drop(['Spam'], axis=1)\n",
        "    model.fit(temp, response_variable)  \n",
        "    predictions_train[:,i] = model.predict(x_train)   \n",
        "    predictions_test[:,i] = model.predict(x_test)\n",
        "    \n",
        "#Make Predictions Dataframe for showing results.\n",
        "columns = [\"Bootstrap-Model_\"+str(i+1) for i in range(n_trees)]\n",
        "predictions_train = pd.DataFrame(predictions_train, columns=columns)\n",
        "predictions_test = pd.DataFrame(predictions_test, columns=columns)\n",
        "y_train = data_train['Spam'].values\n",
        "y_test = data_test['Spam'].values\n",
        "num_to_avg = 100\n",
        "fig, axs = plt.subplots(1, 2, figsize=(16, 7))\n",
        "for (ax, label, predictions, y) in [\n",
        "    (axs[0], 'Training Set', predictions_train, y_train), \n",
        "    (axs[1], 'Test Set' , predictions_test , y_test ) ]:\n",
        "    mean_predictions = predictions.iloc[:,:num_to_avg].mean(axis=1)\n",
        "    # Plot the Spam\n",
        "    mean_predictions[y == 1].hist(density=True, histtype='step', \n",
        "                                  range=[0,1], label='Spam', lw=2, ax=ax)\n",
        "    \n",
        "    # Plot the non Spam\n",
        "    mean_predictions[y == 0].hist(density=True, histtype='step', \n",
        "                                  range=[0,1], label='Not-Spam', lw=2, ax=ax)\n",
        "    ax.legend(loc='upper center');\n",
        "    ax.set_xlabel(\"Mean of ensemble predictions (0.5=50 True - 50 False)\")\n",
        "    ax.set_title(label)"
      ],
      "metadata": {
        "colab": {
          "base_uri": "https://localhost:8080/",
          "height": 458
        },
        "id": "u158ehzrbg_2",
        "outputId": "eeab97d3-df6a-4174-dd11-7a7ee9086203"
      },
      "execution_count": 23,
      "outputs": [
        {
          "output_type": "display_data",
          "data": {
            "text/plain": [
              "<Figure size 1152x504 with 2 Axes>"
            ],
            "image/png": "[encoded data removed]"
          },
          "metadata": {
            "needs_background": "light"
          }
        }
      ]
    },
    {
      "cell_type": "code",
      "source": [
        "def get_prediction(df, count=-1):\n",
        "    count = df.shape[1] if count==-1 else count\n",
        "    temp = df.iloc[:,0:count]\n",
        "    return np.mean(temp, axis=1)>0.5\n",
        "\n",
        "#Check Accuracy of Spam Detection in Train and Test Set\n",
        "acc_bagging_training = 100*accuracy_score(y_train, get_prediction(predictions_train, count=-1))\n",
        "acc_bagging_testing  = 100*accuracy_score(y_test, get_prediction(predictions_test, count=-1))\n",
        "\n",
        "print(\"Bagging: \\tAccuracy, Training Set \\t: {:0.2f}%\".format(acc_bagging_training))\n",
        "print(\"Bagging: \\tAccuracy, Testing Set \\t: {:0.2f}%\".format( acc_bagging_testing))\n",
        "pd.crosstab(np.array(y_test), model.predict(x_test), margins=True, rownames=['Actual'], colnames=['Predicted'])"
      ],
      "metadata": {
        "colab": {
          "base_uri": "https://localhost:8080/",
          "height": 210
        },
        "id": "QY80hSs2bg8R",
        "outputId": "afc3cde8-842b-456f-dd48-d148a00ec7de"
      },
      "execution_count": 25,
      "outputs": [
        {
          "output_type": "stream",
          "name": "stdout",
          "text": [
            "Bagging: \tAccuracy, Training Set \t: 93.37%\n",
            "Bagging: \tAccuracy, Testing Set \t: 92.49%\n"
          ]
        },
        {
          "output_type": "execute_result",
          "data": {
            "text/plain": [
              "Predicted    0    1  All\n",
              "Actual                  \n",
              "0          509   31  540\n",
              "1           66  300  366\n",
              "All        575  331  906"
            ],
            "text/html": [
              "\n",
              "  <div id=\"df-7e5f1971-2edf-41e5-9741-65b09ef886c8\">\n",
              "    <div class=\"colab-df-container\">\n",
              "      <div>\n",
              "<style scoped>\n",
              "    .dataframe tbody tr th:only-of-type {\n",
              "        vertical-align: middle;\n",
              "    }\n",
              "\n",
              "    .dataframe tbody tr th {\n",
              "        vertical-align: top;\n",
              "    }\n",
              "\n",
              "    .dataframe thead th {\n",
              "        text-align: right;\n",
              "    }\n",
              "</style>\n",
              "<table border=\"1\" class=\"dataframe\">\n",
              "  <thead>\n",
              "    <tr style=\"text-align: right;\">\n",
              "      <th>Predicted</th>\n",
              "      <th>0</th>\n",
              "      <th>1</th>\n",
              "      <th>All</th>\n",
              "    </tr>\n",
              "    <tr>\n",
              "      <th>Actual</th>\n",
              "      <th></th>\n",
              "      <th></th>\n",
              "      <th></th>\n",
              "    </tr>\n",
              "  </thead>\n",
              "  <tbody>\n",
              "    <tr>\n",
              "      <th>0</th>\n",
              "      <td>509</td>\n",
              "      <td>31</td>\n",
              "      <td>540</td>\n",
              "    </tr>\n",
              "    <tr>\n",
              "      <th>1</th>\n",
              "      <td>66</td>\n",
              "      <td>300</td>\n",
              "      <td>366</td>\n",
              "    </tr>\n",
              "    <tr>\n",
              "      <th>All</th>\n",
              "      <td>575</td>\n",
              "      <td>331</td>\n",
              "      <td>906</td>\n",
              "    </tr>\n",
              "  </tbody>\n",
              "</table>\n",
              "</div>\n",
              "      <button class=\"colab-df-convert\" onclick=\"convertToInteractive('df-7e5f1971-2edf-41e5-9741-65b09ef886c8')\"\n",
              "              title=\"Convert this dataframe to an interactive table.\"\n",
              "              style=\"display:none;\">\n",
              "        \n",
              "  <svg xmlns=\"http://www.w3.org/2000/svg\" height=\"24px\"viewBox=\"0 0 24 24\"\n",
              "       width=\"24px\">\n",
              "    <path d=\"M0 0h24v24H0V0z\" fill=\"none\"/>\n",
              "    <path d=\"M18.56 5.44l.94 2.06.94-2.06 2.06-.94-2.06-.94-.94-2.06-.94 2.06-2.06.94zm-11 1L8.5 8.5l.94-2.06 2.06-.94-2.06-.94L8.5 2.5l-.94 2.06-2.06.94zm10 10l.94 2.06.94-2.06 2.06-.94-2.06-.94-.94-2.06-.94 2.06-2.06.94z\"/><path d=\"M17.41 7.96l-1.37-1.37c-.4-.4-.92-.59-1.43-.59-.52 0-1.04.2-1.43.59L10.3 9.45l-7.72 7.72c-.78.78-.78 2.05 0 2.83L4 21.41c.39.39.9.59 1.41.59.51 0 1.02-.2 1.41-.59l7.78-7.78 2.81-2.81c.8-.78.8-2.07 0-2.86zM5.41 20L4 18.59l7.72-7.72 1.47 1.35L5.41 20z\"/>\n",
              "  </svg>\n",
              "      </button>\n",
              "      \n",
              "  <style>\n",
              "    .colab-df-container {\n",
              "      display:flex;\n",
              "      flex-wrap:wrap;\n",
              "      gap: 12px;\n",
              "    }\n",
              "\n",
              "    .colab-df-convert {\n",
              "      background-color: #E8F0FE;\n",
              "      border: none;\n",
              "      border-radius: 50%;\n",
              "      cursor: pointer;\n",
              "      display: none;\n",
              "      fill: #1967D2;\n",
              "      height: 32px;\n",
              "      padding: 0 0 0 0;\n",
              "      width: 32px;\n",
              "    }\n",
              "\n",
              "    .colab-df-convert:hover {\n",
              "      background-color: #E2EBFA;\n",
              "      box-shadow: 0px 1px 2px rgba(60, 64, 67, 0.3), 0px 1px 3px 1px rgba(60, 64, 67, 0.15);\n",
              "      fill: #174EA6;\n",
              "    }\n",
              "\n",
              "    [theme=dark] .colab-df-convert {\n",
              "      background-color: #3B4455;\n",
              "      fill: #D2E3FC;\n",
              "    }\n",
              "\n",
              "    [theme=dark] .colab-df-convert:hover {\n",
              "      background-color: #434B5C;\n",
              "      box-shadow: 0px 1px 3px 1px rgba(0, 0, 0, 0.15);\n",
              "      filter: drop-shadow(0px 1px 2px rgba(0, 0, 0, 0.3));\n",
              "      fill: #FFFFFF;\n",
              "    }\n",
              "  </style>\n",
              "\n",
              "      <script>\n",
              "        const buttonEl =\n",
              "          document.querySelector('#df-7e5f1971-2edf-41e5-9741-65b09ef886c8 button.colab-df-convert');\n",
              "        buttonEl.style.display =\n",
              "          google.colab.kernel.accessAllowed ? 'block' : 'none';\n",
              "\n",
              "        async function convertToInteractive(key) {\n",
              "          const element = document.querySelector('#df-7e5f1971-2edf-41e5-9741-65b09ef886c8');\n",
              "          const dataTable =\n",
              "            await google.colab.kernel.invokeFunction('convertToInteractive',\n",
              "                                                     [key], {});\n",
              "          if (!dataTable) return;\n",
              "\n",
              "          const docLinkHtml = 'Like what you see? Visit the ' +\n",
              "            '<a target=\"_blank\" href=https://colab.research.google.com/notebooks/data_table.ipynb>data table notebook</a>'\n",
              "            + ' to learn more about interactive tables.';\n",
              "          element.innerHTML = '';\n",
              "          dataTable['output_type'] = 'display_data';\n",
              "          await google.colab.output.renderOutput(dataTable, element);\n",
              "          const docLink = document.createElement('div');\n",
              "          docLink.innerHTML = docLinkHtml;\n",
              "          element.appendChild(docLink);\n",
              "        }\n",
              "      </script>\n",
              "    </div>\n",
              "  </div>\n",
              "  "
            ]
          },
          "metadata": {},
          "execution_count": 25
        }
      ]
    },
    {
      "cell_type": "markdown",
      "source": [
        "we get slightly worse model than Simple Decision Tree."
      ],
      "metadata": {
        "id": "lYOLZJ79eo4V"
      }
    },
    {
      "cell_type": "markdown",
      "source": [
        "## Random Forest"
      ],
      "metadata": {
        "id": "IX2XFaknxwe4"
      }
    },
    {
      "cell_type": "markdown",
      "source": [
        "We try Random Forest to see if de-corellating trees is a good idea or not!"
      ],
      "metadata": {
        "id": "tn6rBscWgOh3"
      }
    },
    {
      "cell_type": "code",
      "source": [
        "# Training (max feature=auto means choose from sqrt of estimators in each tree.)\n",
        "model = RandomForestClassifier(n_estimators=n_trees, max_depth=best_depth+5)\n",
        "model.fit(x_train, y_train)\n",
        "\n",
        "# Prediction\n",
        "y_pred_train = model.predict(x_train)\n",
        "y_pred_test = model.predict(x_test)\n",
        "\n",
        "# Evaluation\n",
        "acc_random_forest_training = accuracy_score(y_train, y_pred_train)*100\n",
        "acc_random_forest_testing = accuracy_score(y_test, y_pred_test)*100\n",
        "\n",
        "print(\"Random Forest: Accuracy, Training Set : {:0.2f}%\".format(acc_random_forest_training))\n",
        "print(\"Random Forest: Accuracy, Testing Set :  {:0.2f}%\".format(acc_random_forest_testing))"
      ],
      "metadata": {
        "colab": {
          "base_uri": "https://localhost:8080/"
        },
        "id": "WUH6eQzkx0YW",
        "outputId": "058b8b8b-75f9-4177-e589-0c11fb24e985"
      },
      "execution_count": 27,
      "outputs": [
        {
          "output_type": "stream",
          "name": "stdout",
          "text": [
            "Random Forest: Accuracy, Training Set : 99.05%\n",
            "Random Forest: Accuracy, Testing Set :  95.58%\n"
          ]
        }
      ]
    },
    {
      "cell_type": "markdown",
      "source": [
        "Random Forest has much more better accuracy. Random Forest gives us feature importance metric."
      ],
      "metadata": {
        "id": "7PtgaLiEhMT1"
      }
    },
    {
      "cell_type": "code",
      "source": [
        "feature_importance = model.feature_importances_\n",
        "feature_importance = 100.0 * (feature_importance / feature_importance.max())\n",
        "sorted_idx = np.argsort(feature_importance)\n",
        "pos = np.arange(sorted_idx.shape[0]) + .5\n",
        "plt.figure(figsize=(10,12))\n",
        "plt.barh(pos, feature_importance[sorted_idx], align='center')\n",
        "plt.yticks(pos, x_train.columns[sorted_idx])\n",
        "plt.xlabel('Relative Importance')\n",
        "plt.title('Variable Importance')\n",
        "plt.show()"
      ],
      "metadata": {
        "colab": {
          "base_uri": "https://localhost:8080/",
          "height": 730
        },
        "id": "eSvkpeRCjINb",
        "outputId": "19d82e69-f7b2-4dd8-8825-aa4823635f26"
      },
      "execution_count": 28,
      "outputs": [
        {
          "output_type": "display_data",
          "data": {
            "text/plain": [
              "<Figure size 720x864 with 1 Axes>"
            ],
            "image/png": "[encoded data removed]"
          },
          "metadata": {
            "needs_background": "light"
          }
        }
      ]
    },
    {
      "cell_type": "markdown",
      "source": [
        "That's why Random Forest did better. We have feature 52th that is really important and our Bagged trees are really correlated. "
      ],
      "metadata": {
        "id": "BRozqj94jYxW"
      }
    },
    {
      "cell_type": "markdown",
      "source": [
        "## Boosting \n",
        "\n",
        "growing trees sequantially on a modified data.\n"
      ],
      "metadata": {
        "id": "nMLE7a1wx00_"
      }
    },
    {
      "cell_type": "markdown",
      "source": [
        "###  Ada Boost\n",
        "\n"
      ],
      "metadata": {
        "id": "NLDNo75mx94-"
      }
    },
    {
      "cell_type": "markdown",
      "source": [
        "for deep trees, Ada Boost overfot. so we choose max_depth a small number."
      ],
      "metadata": {
        "id": "iBoOE-TS014n"
      }
    },
    {
      "cell_type": "code",
      "source": [
        "model = AdaBoostClassifier(base_estimator=DecisionTreeClassifier(max_depth=4), \n",
        "                           n_estimators=200, \n",
        "                           learning_rate=0.05)\n",
        "model.fit(x_train, y_train)\n",
        "\n",
        "#Predict\n",
        "y_pred_train = model.predict(x_train)\n",
        "y_pred_test = model.predict(x_test)\n",
        "\n",
        "#Performance Evaluation\n",
        "acc_boosting_training = accuracy_score(y_train, y_pred_train)*100\n",
        "acc_boosting_test = accuracy_score(y_test, y_pred_test)*100\n",
        "\n",
        "print(\"Ada Boost:\\tAccuracy, Training Set \\t: {:0.2f}%\".format(acc_boosting_training))\n",
        "print(\"Ada Boost:\\tAccuracy, Testing Set \\t: {:0.2f}%\".format(acc_boosting_test))"
      ],
      "metadata": {
        "colab": {
          "base_uri": "https://localhost:8080/"
        },
        "id": "_UnYItK3pU4M",
        "outputId": "aa01df0c-df04-4f8c-eb62-a0a4488f9fbb"
      },
      "execution_count": 29,
      "outputs": [
        {
          "output_type": "stream",
          "name": "stdout",
          "text": [
            "Ada Boost:\tAccuracy, Training Set \t: 99.57%\n",
            "Ada Boost:\tAccuracy, Testing Set \t: 95.58%\n"
          ]
        }
      ]
    },
    {
      "cell_type": "markdown",
      "source": [
        "Each iteration accuracy for Boostring"
      ],
      "metadata": {
        "id": "Mn-6phsgyTnJ"
      }
    },
    {
      "cell_type": "code",
      "source": [
        "train_scores = list(model.staged_score(x_train,y_train))\n",
        "test_scores = list(model.staged_score(x_test, y_test))\n",
        "\n",
        "plt.figure(figsize=(10,7))\n",
        "plt.plot(train_scores,label='train')\n",
        "plt.plot(test_scores,label='test')\n",
        "plt.xlabel('Iteration')\n",
        "plt.ylabel('Accuracy')\n",
        "plt.title(\"Variation of Accuracy with Iterations - ADA Boost\")\n",
        "plt.legend();"
      ],
      "metadata": {
        "colab": {
          "base_uri": "https://localhost:8080/",
          "height": 617
        },
        "id": "sEB_7nAZzqvS",
        "outputId": "47b0820c-13c8-459c-c12b-ad498baf4d6c"
      },
      "execution_count": 30,
      "outputs": [
        {
          "output_type": "stream",
          "name": "stderr",
          "text": [
            "/usr/local/lib/python3.7/dist-packages/sklearn/base.py:451: UserWarning: X does not have valid feature names, but AdaBoostClassifier was fitted with feature names\n",
            "  \"X does not have valid feature names, but\"\n",
            "/usr/local/lib/python3.7/dist-packages/sklearn/base.py:451: UserWarning: X does not have valid feature names, but AdaBoostClassifier was fitted with feature names\n",
            "  \"X does not have valid feature names, but\"\n",
            "/usr/local/lib/python3.7/dist-packages/sklearn/base.py:451: UserWarning: X does not have valid feature names, but AdaBoostClassifier was fitted with feature names\n",
            "  \"X does not have valid feature names, but\"\n",
            "/usr/local/lib/python3.7/dist-packages/sklearn/base.py:451: UserWarning: X does not have valid feature names, but AdaBoostClassifier was fitted with feature names\n",
            "  \"X does not have valid feature names, but\"\n"
          ]
        },
        {
          "output_type": "display_data",
          "data": {
            "text/plain": [
              "<Figure size 720x504 with 1 Axes>"
            ],
            "image/png": "[encoded data removed]"
          },
          "metadata": {
            "needs_background": "light"
          }
        }
      ]
    },
    {
      "cell_type": "code",
      "source": [
        "print(\"Decision Trees:\\tAccuracy, Testing Set \\t: {:.2%}\".format(acc_trees_testing))\n",
        "print(\"Bagging: \\tAccuracy, Testing Set \\t: {:0.2f}%\".format( acc_bagging_testing))\n",
        "print(\"Random Forest: \\tAccuracy, Testing Set \\t: {:0.2f}%\".format(acc_random_forest_testing))\n",
        "print(\"Ada Boost:\\tAccuracy, Testing Set \\t: {:0.2f}%\".format(acc_boosting_test))"
      ],
      "metadata": {
        "colab": {
          "base_uri": "https://localhost:8080/"
        },
        "id": "4yVhDb2_z8b-",
        "outputId": "36e81bfb-7721-43e6-9db1-beab3fe2cb0b"
      },
      "execution_count": 31,
      "outputs": [
        {
          "output_type": "stream",
          "name": "stdout",
          "text": [
            "Decision Trees:\tAccuracy, Testing Set \t: 92.94%\n",
            "Bagging: \tAccuracy, Testing Set \t: 92.49%\n",
            "Random Forest: \tAccuracy, Testing Set \t: 95.58%\n",
            "Ada Boost:\tAccuracy, Testing Set \t: 95.58%\n"
          ]
        }
      ]
    },
    {
      "cell_type": "markdown",
      "source": [
        "### XGBoost\n",
        "eXtreme Gradient Boosting. is a Gradient boosting techniques which also prevent overfitting with tree pruning, L1 and L2 norm as a regulizer."
      ],
      "metadata": {
        "id": "UQt1uiwvyJa4"
      }
    },
    {
      "cell_type": "code",
      "source": [
        "# Let's install XGBoost\n",
        "! pip install xgboost"
      ],
      "metadata": {
        "colab": {
          "base_uri": "https://localhost:8080/"
        },
        "id": "BQI1BLHbyP-f",
        "outputId": "2440e265-9776-4b58-ff7a-57f9fb607496"
      },
      "execution_count": 32,
      "outputs": [
        {
          "output_type": "stream",
          "name": "stdout",
          "text": [
            "Looking in indexes: https://pypi.org/simple, https://us-python.pkg.dev/colab-wheels/public/simple/\n",
            "Requirement already satisfied: xgboost in /usr/local/lib/python3.7/dist-packages (0.90)\n",
            "Requirement already satisfied: numpy in /usr/local/lib/python3.7/dist-packages (from xgboost) (1.21.6)\n",
            "Requirement already satisfied: scipy in /usr/local/lib/python3.7/dist-packages (from xgboost) (1.5.4)\n"
          ]
        }
      ]
    },
    {
      "cell_type": "code",
      "source": [
        "import xgboost as xgb\n",
        "import time\n",
        "dtrain = xgb.DMatrix(x_train, label=y_train)\n",
        "dtest = xgb.DMatrix(x_test, label=y_test)\n",
        "param = {\n",
        "    'max_depth': best_depth,  # the maximum depth of each tree\n",
        "    'eta': 0.3,               # the training step for each iteration\n",
        "    'silent': 1,              # logging mode - quiet\n",
        "    'objective': 'multi:softprob',  # error evaluation for multiclass training\n",
        "    'num_class': 2}           # the number of classes that exist in this datset\n",
        "num_round = 200  \n",
        "start = time.time()\n",
        "trainedXGB = xgb.train(param, \n",
        "                dtrain, \n",
        "                num_round, \n",
        "                evals= [(dtrain, 'train')], \n",
        "                early_stopping_rounds=20, # early stopping\n",
        "                verbose_eval=20)\n",
        "\n",
        "\n",
        "# Make prediction training set\n",
        "preds_train = trainedXGB.predict(dtrain)\n",
        "best_preds_train = np.asarray([np.argmax(line) for line in preds_train])\n",
        "\n",
        "# Make prediction test set\n",
        "preds_test = trainedXGB.predict(dtest)\n",
        "best_preds_test = np.asarray([np.argmax(line) for line in preds_test])\n",
        "\n",
        "# Performance Evaluation \n",
        "acc_XGBoost_training = accuracy_score(y_train, best_preds_train)*100\n",
        "acc_XGBoost_test = accuracy_score(y_test, best_preds_test)*100\n",
        "end = time.time()\n",
        "elapsed_xgboost = end - start\n",
        "\n",
        "print(\"XGBoost:\\tAccuracy, Training Set \\t: {:0.2f}%\".format(acc_XGBoost_training))\n",
        "print(\"XGBoost:\\tAccuracy, Testing Set \\t: {:0.2f}%\".format(acc_XGBoost_test))"
      ],
      "metadata": {
        "colab": {
          "base_uri": "https://localhost:8080/"
        },
        "id": "dwqfNgTl14j6",
        "outputId": "d1ff39e2-e1ef-4181-85a7-71c61070790f"
      },
      "execution_count": 34,
      "outputs": [
        {
          "output_type": "stream",
          "name": "stdout",
          "text": [
            "[0]\ttrain-merror:0.037077\n",
            "Will train until train-merror hasn't improved in 20 rounds.\n",
            "[20]\ttrain-merror:0.002977\n",
            "[40]\ttrain-merror:0.000541\n",
            "Stopping. Best iteration:\n",
            "[37]\ttrain-merror:0.000541\n",
            "\n",
            "XGBoost:\tAccuracy, Training Set \t: 99.95%\n",
            "XGBoost:\tAccuracy, Testing Set \t: 96.25%\n"
          ]
        }
      ]
    },
    {
      "cell_type": "code",
      "source": [
        "print(\"Decision Trees:\\tAccuracy, Testing Set \\t: {:.2%}\".format(acc_trees_testing))\n",
        "print(\"Bagging: \\tAccuracy, Testing Set \\t: {:0.2f}%\".format( acc_bagging_testing))\n",
        "print(\"Random Forest: \\tAccuracy, Testing Set \\t: {:0.2f}%\".format(acc_random_forest_testing))\n",
        "print(\"Ada Boost:\\tAccuracy, Testing Set \\t: {:0.2f}%\".format(acc_boosting_test))\n",
        "print(\"XGBoost:\\tAccuracy, Testing Set \\t: {:0.2f}%\".format(acc_XGBoost_test))"
      ],
      "metadata": {
        "colab": {
          "base_uri": "https://localhost:8080/"
        },
        "id": "Z1Bir7V127sE",
        "outputId": "32934ed4-7168-4213-fcd5-94b6e8f27128"
      },
      "execution_count": 35,
      "outputs": [
        {
          "output_type": "stream",
          "name": "stdout",
          "text": [
            "Decision Trees:\tAccuracy, Testing Set \t: 92.94%\n",
            "Bagging: \tAccuracy, Testing Set \t: 92.49%\n",
            "Random Forest: \tAccuracy, Testing Set \t: 95.58%\n",
            "Ada Boost:\tAccuracy, Testing Set \t: 95.58%\n",
            "XGBoost:\tAccuracy, Testing Set \t: 96.25%\n"
          ]
        }
      ]
    },
    {
      "cell_type": "markdown",
      "source": [
        "We see that XGBoost outperforms other algorithms in the testSet."
      ],
      "metadata": {
        "id": "xgv4PtvG3h3q"
      }
    }
  ]
}